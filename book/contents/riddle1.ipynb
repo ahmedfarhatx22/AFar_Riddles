{
 "cells": [
  {
   "cell_type": "markdown",
   "metadata": {},
   "source": [
    "# Hope's Advice\n",
    "\n",
    "---\n",
    "*Hope tried to speak <br>\n",
    "My future it tried to leak<br>\n",
    "He said: Much will happen this week<br>\n",
    "So long that you know what you seek<br>\n",
    "Love will make you weak<br>\n",
    "Stop counting the days; be unique<br>\n",
    "Just try and let your heart sneak<br>*\n",
    "\n",
    "---\n",
    "\n",
    "<font color=\"blue\">Question: How many days were counted while taking hope's advice?</font>\n"
   ]
  },
  {
   "cell_type": "markdown",
   "metadata": {},
   "source": [
    "```{admonition} Click here for a hint!\n",
    ":class: tip, dropdown\n",
    "Hint: Language can be funny sometimes: one word in the poem can represents the count!\n",
    "```"
   ]
  },
  {
   "cell_type": "markdown",
   "metadata": {},
   "source": [
    "```{admonition} Click here for the answer!\n",
    ":class: tip, dropdown\n",
    "<font color=\"blue\">7 days. <br></font>Coming from the word \"week\".\n",
    "```"
   ]
  },
  {
   "cell_type": "markdown",
   "metadata": {},
   "source": []
  }
 ],
 "metadata": {
  "language_info": {
   "name": "python"
  }
 },
 "nbformat": 4,
 "nbformat_minor": 2
}
