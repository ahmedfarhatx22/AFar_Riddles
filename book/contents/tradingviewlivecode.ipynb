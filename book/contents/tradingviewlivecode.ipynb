{
 "cells": [
  {
   "cell_type": "code",
   "execution_count": 5,
   "metadata": {},
   "outputs": [
    {
     "data": {
      "text/html": [
       "<!DOCTYPE html>\n",
       "<html>\n",
       "<head>\n",
       "  <script type=\"text/javascript\" src=\"https://s3.tradingview.com/tv.js\"></script>\n",
       "</head>\n",
       "<body>\n",
       "  <div id=\"tv_chart_container\"></div>\n",
       "\n",
       "  <script>\n",
       "    new TradingView.widget(\n",
       "      {\n",
       "        \"width\": 1000,\n",
       "        \"height\": 600,\n",
       "        \"symbol\": \"AAPL\", // Set the symbol you want to display\n",
       "        \"interval\": \"1\",   // Set the chart interval (e.g., \"1\" for 1 minute)\n",
       "        \"theme\": \"Light\",  // Choose the theme (\"Light\" or \"Dark\")\n",
       "        \"container_id\": \"tv_chart_container\"\n",
       "      }\n",
       "    );\n",
       "  </script>\n",
       "</body>\n",
       "</html>\n"
      ],
      "text/plain": [
       "<IPython.core.display.HTML object>"
      ]
     },
     "execution_count": 5,
     "metadata": {},
     "output_type": "execute_result"
    }
   ],
   "source": [
    "from IPython.display import HTML\n",
    "\n",
    "# Read the HTML file\n",
    "with open('Tradingviewlive.html', 'r') as file:\n",
    "    chart_html = file.read()\n",
    "\n",
    "# Display the TradingView chart in the notebook\n",
    "HTML(chart_html)\n"
   ]
  },
  {
   "cell_type": "markdown",
   "metadata": {},
   "source": [
    "# API and trading data BYBIT"
   ]
  },
  {
   "cell_type": "code",
   "execution_count": 6,
   "metadata": {},
   "outputs": [],
   "source": [
    "import hashlib\n",
    "import hmac\n",
    "import json\n",
    "import requests\n",
    "\n",
    "# Replace with your actual API credentials\n",
    "api_key = '68ZSZrwVlqocdRnEHp'\n",
    "api_secret = 'LFrQZW7ceKwlGSEYZGKE3EOKjtTtjBJSaMGJ'\n",
    "\n",
    "# Define the endpoint URL\n",
    "base_url = 'https://api.bybit.com'\n",
    "\n",
    "# Define a function to create the request signature\n",
    "def create_signature(api_secret, data):\n",
    "    return hmac.new(api_secret.encode('utf-8'), data.encode('utf-8'), hashlib.sha256).hexdigest()\n",
    "\n",
    "# Define headers for the API request\n",
    "headers = {\n",
    "    'API-Key': api_key,\n",
    "}\n",
    "\n",
    "# Define your trading symbol\n",
    "symbol = 'BTCUSD'  # Replace with the symbol you are trading\n"
   ]
  },
  {
   "cell_type": "code",
   "execution_count": 17,
   "metadata": {},
   "outputs": [
    {
     "data": {
      "text/plain": [
       "{'ret_code': 10001,\n",
       " 'ret_msg': 'empty value: apiTimestamp[] apiKey[] apiSignature[]',\n",
       " 'result': {},\n",
       " 'ext_code': '',\n",
       " 'ext_info': '',\n",
       " 'time_now': '1699494068.313769',\n",
       " 'rate_limit_status': 0,\n",
       " 'rate_limit': 0,\n",
       " 'rate_limit_reset_ms': 0}"
      ]
     },
     "execution_count": 17,
     "metadata": {},
     "output_type": "execute_result"
    }
   ],
   "source": [
    "# Define the request data\n",
    "data = {\n",
    "    'symbol': symbol,\n",
    "    'start_time': 'timestamp',  # Replace with your desired start time\n",
    "    'end_time': 'timestamp',    # Replace with your desired end time\n",
    "}\n",
    "\n",
    "# Create the request signature\n",
    "data_json = json.dumps(data)\n",
    "signature = create_signature(api_secret, data_json)\n",
    "\n",
    "# Add the signature to the headers\n",
    "headers['API-Signature'] = signature\n",
    "\n",
    "# Make the API request to get executed orders\n",
    "response = requests.get(f'{base_url}/v2/private/execution/list', headers=headers, params=data)\n",
    "\n",
    "if response.status_code == 200:\n",
    "    trade_data = response.json()\n",
    "    # Process the trade data to extract entry and exit prices\n",
    "else:\n",
    "    print(f'Error: {response.status_code} - {response.text}')\n",
    "\n",
    "trade_data"
   ]
  },
  {
   "cell_type": "code",
   "execution_count": null,
   "metadata": {},
   "outputs": [],
   "source": []
  }
 ],
 "metadata": {
  "kernelspec": {
   "display_name": "Python 3",
   "language": "python",
   "name": "python3"
  },
  "language_info": {
   "codemirror_mode": {
    "name": "ipython",
    "version": 3
   },
   "file_extension": ".py",
   "mimetype": "text/x-python",
   "name": "python",
   "nbconvert_exporter": "python",
   "pygments_lexer": "ipython3",
   "version": "3.11.2"
  }
 },
 "nbformat": 4,
 "nbformat_minor": 2
}
